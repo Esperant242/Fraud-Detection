{
 "cells": [
  {
   "cell_type": "code",
   "execution_count": 25,
   "metadata": {},
   "outputs": [],
   "source": [
    "# Importation des bibliothèques de base\n",
    "import pandas as pd\n",
    "import numpy as np\n",
    "import pickle\n",
    "import os\n",
    "\n",
    "# Bibliothèques de machine learning\n",
    "from sklearn.linear_model import LogisticRegression\n",
    "from sklearn.ensemble import RandomForestClassifier\n",
    "from sklearn.metrics import classification_report, confusion_matrix, roc_auc_score, average_precision_score\n",
    "import xgboost as xgb\n",
    "from sklearn.ensemble import IsolationForest\n",
    "\n",
    "# Bibliothèques de prétraitement\n",
    "from imblearn.over_sampling import SMOTE\n",
    "from sklearn.preprocessing import StandardScaler\n",
    "from sklearn.model_selection import train_test_split\n",
    "\n",
    "# Bibliothèques pour l'optimisation des hyperparamètres\n",
    "from hyperopt import fmin, tpe, hp, Trials, STATUS_OK\n",
    "from hyperopt.pyll.base import scope\n",
    "\n",
    "# Bibliothèques de visualisation\n",
    "import matplotlib.pyplot as plt\n",
    "import seaborn as sns\n",
    "SEED=42\n",
    "# Configuration de style pour les graphiques\n",
    "sns.set(style='whitegrid', palette='muted', font_scale=1.2)\n",
    "%matplotlib inline\n"
   ]
  },
  {
   "cell_type": "code",
   "execution_count": 7,
   "metadata": {},
   "outputs": [
    {
     "data": {
      "text/html": [
       "<div>\n",
       "<style scoped>\n",
       "    .dataframe tbody tr th:only-of-type {\n",
       "        vertical-align: middle;\n",
       "    }\n",
       "\n",
       "    .dataframe tbody tr th {\n",
       "        vertical-align: top;\n",
       "    }\n",
       "\n",
       "    .dataframe thead th {\n",
       "        text-align: right;\n",
       "    }\n",
       "</style>\n",
       "<table border=\"1\" class=\"dataframe\">\n",
       "  <thead>\n",
       "    <tr style=\"text-align: right;\">\n",
       "      <th></th>\n",
       "      <th>Time</th>\n",
       "      <th>V1</th>\n",
       "      <th>V2</th>\n",
       "      <th>V3</th>\n",
       "      <th>V4</th>\n",
       "      <th>V5</th>\n",
       "      <th>V6</th>\n",
       "      <th>V7</th>\n",
       "      <th>V8</th>\n",
       "      <th>V9</th>\n",
       "      <th>...</th>\n",
       "      <th>V21</th>\n",
       "      <th>V22</th>\n",
       "      <th>V23</th>\n",
       "      <th>V24</th>\n",
       "      <th>V25</th>\n",
       "      <th>V26</th>\n",
       "      <th>V27</th>\n",
       "      <th>V28</th>\n",
       "      <th>Amount</th>\n",
       "      <th>Class</th>\n",
       "    </tr>\n",
       "  </thead>\n",
       "  <tbody>\n",
       "    <tr>\n",
       "      <th>0</th>\n",
       "      <td>0.0</td>\n",
       "      <td>-1.359807</td>\n",
       "      <td>-0.072781</td>\n",
       "      <td>2.536347</td>\n",
       "      <td>1.378155</td>\n",
       "      <td>-0.338321</td>\n",
       "      <td>0.462388</td>\n",
       "      <td>0.239599</td>\n",
       "      <td>0.098698</td>\n",
       "      <td>0.363787</td>\n",
       "      <td>...</td>\n",
       "      <td>-0.018307</td>\n",
       "      <td>0.277838</td>\n",
       "      <td>-0.110474</td>\n",
       "      <td>0.066928</td>\n",
       "      <td>0.128539</td>\n",
       "      <td>-0.189115</td>\n",
       "      <td>0.133558</td>\n",
       "      <td>-0.021053</td>\n",
       "      <td>149.62</td>\n",
       "      <td>0</td>\n",
       "    </tr>\n",
       "    <tr>\n",
       "      <th>1</th>\n",
       "      <td>0.0</td>\n",
       "      <td>1.191857</td>\n",
       "      <td>0.266151</td>\n",
       "      <td>0.166480</td>\n",
       "      <td>0.448154</td>\n",
       "      <td>0.060018</td>\n",
       "      <td>-0.082361</td>\n",
       "      <td>-0.078803</td>\n",
       "      <td>0.085102</td>\n",
       "      <td>-0.255425</td>\n",
       "      <td>...</td>\n",
       "      <td>-0.225775</td>\n",
       "      <td>-0.638672</td>\n",
       "      <td>0.101288</td>\n",
       "      <td>-0.339846</td>\n",
       "      <td>0.167170</td>\n",
       "      <td>0.125895</td>\n",
       "      <td>-0.008983</td>\n",
       "      <td>0.014724</td>\n",
       "      <td>2.69</td>\n",
       "      <td>0</td>\n",
       "    </tr>\n",
       "    <tr>\n",
       "      <th>2</th>\n",
       "      <td>1.0</td>\n",
       "      <td>-1.358354</td>\n",
       "      <td>-1.340163</td>\n",
       "      <td>1.773209</td>\n",
       "      <td>0.379780</td>\n",
       "      <td>-0.503198</td>\n",
       "      <td>1.800499</td>\n",
       "      <td>0.791461</td>\n",
       "      <td>0.247676</td>\n",
       "      <td>-1.514654</td>\n",
       "      <td>...</td>\n",
       "      <td>0.247998</td>\n",
       "      <td>0.771679</td>\n",
       "      <td>0.909412</td>\n",
       "      <td>-0.689281</td>\n",
       "      <td>-0.327642</td>\n",
       "      <td>-0.139097</td>\n",
       "      <td>-0.055353</td>\n",
       "      <td>-0.059752</td>\n",
       "      <td>378.66</td>\n",
       "      <td>0</td>\n",
       "    </tr>\n",
       "    <tr>\n",
       "      <th>3</th>\n",
       "      <td>1.0</td>\n",
       "      <td>-0.966272</td>\n",
       "      <td>-0.185226</td>\n",
       "      <td>1.792993</td>\n",
       "      <td>-0.863291</td>\n",
       "      <td>-0.010309</td>\n",
       "      <td>1.247203</td>\n",
       "      <td>0.237609</td>\n",
       "      <td>0.377436</td>\n",
       "      <td>-1.387024</td>\n",
       "      <td>...</td>\n",
       "      <td>-0.108300</td>\n",
       "      <td>0.005274</td>\n",
       "      <td>-0.190321</td>\n",
       "      <td>-1.175575</td>\n",
       "      <td>0.647376</td>\n",
       "      <td>-0.221929</td>\n",
       "      <td>0.062723</td>\n",
       "      <td>0.061458</td>\n",
       "      <td>123.50</td>\n",
       "      <td>0</td>\n",
       "    </tr>\n",
       "    <tr>\n",
       "      <th>4</th>\n",
       "      <td>2.0</td>\n",
       "      <td>-1.158233</td>\n",
       "      <td>0.877737</td>\n",
       "      <td>1.548718</td>\n",
       "      <td>0.403034</td>\n",
       "      <td>-0.407193</td>\n",
       "      <td>0.095921</td>\n",
       "      <td>0.592941</td>\n",
       "      <td>-0.270533</td>\n",
       "      <td>0.817739</td>\n",
       "      <td>...</td>\n",
       "      <td>-0.009431</td>\n",
       "      <td>0.798278</td>\n",
       "      <td>-0.137458</td>\n",
       "      <td>0.141267</td>\n",
       "      <td>-0.206010</td>\n",
       "      <td>0.502292</td>\n",
       "      <td>0.219422</td>\n",
       "      <td>0.215153</td>\n",
       "      <td>69.99</td>\n",
       "      <td>0</td>\n",
       "    </tr>\n",
       "  </tbody>\n",
       "</table>\n",
       "<p>5 rows × 31 columns</p>\n",
       "</div>"
      ],
      "text/plain": [
       "   Time        V1        V2        V3        V4        V5        V6        V7  \\\n",
       "0   0.0 -1.359807 -0.072781  2.536347  1.378155 -0.338321  0.462388  0.239599   \n",
       "1   0.0  1.191857  0.266151  0.166480  0.448154  0.060018 -0.082361 -0.078803   \n",
       "2   1.0 -1.358354 -1.340163  1.773209  0.379780 -0.503198  1.800499  0.791461   \n",
       "3   1.0 -0.966272 -0.185226  1.792993 -0.863291 -0.010309  1.247203  0.237609   \n",
       "4   2.0 -1.158233  0.877737  1.548718  0.403034 -0.407193  0.095921  0.592941   \n",
       "\n",
       "         V8        V9  ...       V21       V22       V23       V24       V25  \\\n",
       "0  0.098698  0.363787  ... -0.018307  0.277838 -0.110474  0.066928  0.128539   \n",
       "1  0.085102 -0.255425  ... -0.225775 -0.638672  0.101288 -0.339846  0.167170   \n",
       "2  0.247676 -1.514654  ...  0.247998  0.771679  0.909412 -0.689281 -0.327642   \n",
       "3  0.377436 -1.387024  ... -0.108300  0.005274 -0.190321 -1.175575  0.647376   \n",
       "4 -0.270533  0.817739  ... -0.009431  0.798278 -0.137458  0.141267 -0.206010   \n",
       "\n",
       "        V26       V27       V28  Amount  Class  \n",
       "0 -0.189115  0.133558 -0.021053  149.62      0  \n",
       "1  0.125895 -0.008983  0.014724    2.69      0  \n",
       "2 -0.139097 -0.055353 -0.059752  378.66      0  \n",
       "3 -0.221929  0.062723  0.061458  123.50      0  \n",
       "4  0.502292  0.219422  0.215153   69.99      0  \n",
       "\n",
       "[5 rows x 31 columns]"
      ]
     },
     "execution_count": 7,
     "metadata": {},
     "output_type": "execute_result"
    }
   ],
   "source": [
    "# Chemin vers le fichier CSV prétraité\n",
    "data_path = 'data/creditcard.csv'\n",
    "\n",
    "# Chargement des données dans un DataFrame pandas\n",
    "data = pd.read_csv(data_path)\n",
    "\n",
    "# Affichage des premières lignes du dataset\n",
    "data.head()\n"
   ]
  },
  {
   "cell_type": "code",
   "execution_count": 8,
   "metadata": {},
   "outputs": [],
   "source": [
    "# Séparation des features (X) et de la variable cible (y)\n",
    "X = data.drop('Class', axis=1)\n",
    "y = data['Class']\n"
   ]
  },
  {
   "cell_type": "code",
   "execution_count": 10,
   "metadata": {},
   "outputs": [
    {
     "name": "stdout",
     "output_type": "stream",
     "text": [
      "Scaler sauvegardé dans 'models/scaler.pkl'\n"
     ]
    }
   ],
   "source": [
    "# Initialisation du scaler\n",
    "scaler = StandardScaler()\n",
    "\n",
    "# Entraînement du scaler sur les données d'entraînement\n",
    "X_scaled = scaler.fit_transform(X)\n",
    "\n",
    "# Sauvegarde du scaler\n",
    "scaler_path = 'models/scaler.pkl'\n",
    "\n",
    "# Créer le dossier 'models' s'il n'existe pas\n",
    "os.makedirs(os.path.dirname(scaler_path), exist_ok=True)\n",
    "\n",
    "with open(scaler_path, 'wb') as file:\n",
    "    pickle.dump(scaler, file)\n",
    "\n",
    "print(f\"Scaler sauvegardé dans '{scaler_path}'\")\n"
   ]
  },
  {
   "cell_type": "code",
   "execution_count": 11,
   "metadata": {},
   "outputs": [],
   "source": [
    "# Séparation en ensembles d'entraînement et de validation\n",
    "X_train, X_val, y_train, y_val = train_test_split(\n",
    "    X_scaled, y, test_size=0.2, random_state=42, stratify=y\n",
    ")\n"
   ]
  },
  {
   "cell_type": "code",
   "execution_count": 12,
   "metadata": {},
   "outputs": [],
   "source": [
    "def aucpr_metric(y_true, y_scores):\n",
    "    return average_precision_score(y_true, y_scores)\n"
   ]
  },
  {
   "cell_type": "markdown",
   "metadata": {},
   "source": [
    " ## Définition des Espaces de Recherche pour Hyperopt"
   ]
  },
  {
   "cell_type": "code",
   "execution_count": 13,
   "metadata": {},
   "outputs": [],
   "source": [
    "space_xgb = {\n",
    "    'n_estimators': scope.int(hp.quniform('n_estimators', 50, 500, 50)),\n",
    "    'max_depth': scope.int(hp.quniform('max_depth', 3, 10, 1)),\n",
    "    'learning_rate': hp.loguniform('learning_rate', np.log(0.01), np.log(0.3)),\n",
    "    'subsample': hp.uniform('subsample', 0.5, 1.0),\n",
    "    'colsample_bytree': hp.uniform('colsample_bytree', 0.5, 1.0),\n",
    "    'gamma': hp.uniform('gamma', 0, 5),\n",
    "    'reg_alpha': hp.loguniform('reg_alpha', np.log(0.0001), np.log(10)),\n",
    "    'reg_lambda': hp.loguniform('reg_lambda', np.log(0.0001), np.log(10))\n",
    "}\n"
   ]
  },
  {
   "cell_type": "code",
   "execution_count": 16,
   "metadata": {},
   "outputs": [],
   "source": [
    "space_iforest = {\n",
    "    'n_estimators': scope.int(hp.quniform('n_estimators', 50, 300, 10)),\n",
    "    'max_samples': hp.uniform('max_samples', 0.5, 1.0),\n",
    "    'max_features': hp.uniform('max_features', 0.5, 1.0),\n",
    "    'bootstrap': hp.choice('bootstrap', [True, False]),\n",
    "    'behaviour': hp.choice('behaviour', ['new', 'deprecated'])\n",
    "}\n"
   ]
  },
  {
   "cell_type": "markdown",
   "metadata": {},
   "source": [
    "## Définition des Fonctions Objectifs pour Hyperopt"
   ]
  },
  {
   "cell_type": "code",
   "execution_count": 26,
   "metadata": {},
   "outputs": [],
   "source": [
    "def objective_xgb(params):\n",
    "    # Convertir les paramètres\n",
    "    params['n_estimators'] = int(params['n_estimators'])\n",
    "    params['max_depth'] = int(params['max_depth'])\n",
    "    \n",
    "    # Initialiser le modèle\n",
    "    model = xgb.XGBClassifier(\n",
    "        objective='binary:logistic',\n",
    "        use_label_encoder=False,\n",
    "        eval_metric='logloss',\n",
    "        **params,\n",
    "        random_state=SEED\n",
    "    )\n",
    "    \n",
    "    # Entraîner le modèle\n",
    "    model.fit(X_train, y_train)\n",
    "    \n",
    "    # Prédictions sur l'ensemble de validation\n",
    "    y_pred_proba = model.predict_proba(X_val)[:,1]\n",
    "    \n",
    "    # Calculer la métrique AUC-PR\n",
    "    aucpr = aucpr_metric(y_val, y_pred_proba)\n",
    "    \n",
    "    return {'loss': -aucpr, 'status': STATUS_OK}\n"
   ]
  },
  {
   "cell_type": "code",
   "execution_count": 20,
   "metadata": {},
   "outputs": [
    {
     "name": "stdout",
     "output_type": "stream",
     "text": [
      "Contamination estimée: 0.001727 (0.1727%)\n"
     ]
    }
   ],
   "source": [
    "# Calcul de la contamination basée sur les données d'entraînement\n",
    "contamination = y.sum()/len(y)\n",
    "print(f\"Contamination estimée: {contamination:.6f} ({contamination*100:.4f}%)\")\n"
   ]
  },
  {
   "cell_type": "code",
   "execution_count": 32,
   "metadata": {},
   "outputs": [],
   "source": [
    "def objective_iforest(params):\n",
    "    # Utiliser la contamination calculée précédemment\n",
    "    params['contamination'] = contamination\n",
    "    \n",
    "    # Initialiser le modèle\n",
    "    model = IsolationForest(\n",
    "        n_estimators=int(params['n_estimators']),\n",
    "        max_samples=params['max_samples'],\n",
    "        contamination=params['contamination'],  # Utiliser la contamination calculée\n",
    "        max_features=params['max_features'],\n",
    "        \n",
    "        random_state=SEED\n",
    "    )\n",
    "    \n",
    "    # Entraîner le modèle\n",
    "    model.fit(X_train)\n",
    "    \n",
    "    # Prédictions (1: normal, -1: anomalie)\n",
    "    y_pred = model.predict(X_val)\n",
    "    \n",
    "    # Conversion des prédictions en format binaire\n",
    "    y_pred_binary = np.where(y_pred == -1, 1, 0)  # 1: Anomalie (Fraude), 0: Normal\n",
    "    \n",
    "    # Calculer la métrique AUC-PR\n",
    "    aucpr = average_precision_score(y_val, y_pred_binary)\n",
    "    \n",
    "    return {'loss': -aucpr, 'status': STATUS_OK}\n"
   ]
  },
  {
   "cell_type": "code",
   "execution_count": null,
   "metadata": {},
   "outputs": [],
   "source": [
    "# Initialiser les essais\n",
    "trials_xgb = Trials()\n",
    "\n",
    "# Exécuter l'optimisation\n",
    "best_xgb = fmin(\n",
    "    fn=objective_xgb,\n",
    "    space=space_xgb,\n",
    "    algo=tpe.suggest,\n",
    "    max_evals=50,\n",
    "    trials=trials_xgb,\n",
    "    rstate=np.random.default_rng(SEED)\n",
    ")\n",
    "\n",
    "print(\"Meilleurs Hyperparamètres pour XGBoost:\")\n",
    "print(best_xgb)\n"
   ]
  },
  {
   "cell_type": "code",
   "execution_count": 35,
   "metadata": {},
   "outputs": [
    {
     "name": "stdout",
     "output_type": "stream",
     "text": [
      "100%|██████████| 50/50 [21:36<00:00, 25.94s/trial, best loss: -0.14005987981611392]\n",
      "Meilleurs Hyperparamètres pour Isolation Forest:\n",
      "{'behaviour': 1, 'bootstrap': 1, 'max_features': 0.8327683247861657, 'max_samples': 0.8543503833816739, 'n_estimators': 190.0}\n"
     ]
    }
   ],
   "source": [
    "# Initialiser les essais\n",
    "trials_iforest = Trials()\n",
    "\n",
    "# Exécuter l'optimisation\n",
    "best_iforest = fmin(\n",
    "    fn=objective_iforest,\n",
    "    space=space_iforest,\n",
    "    algo=tpe.suggest,\n",
    "    max_evals=50,\n",
    "    trials=trials_iforest,\n",
    "    rstate=np.random.default_rng(SEED)\n",
    ")\n",
    "\n",
    "print(\"Meilleurs Hyperparamètres pour Isolation Forest:\")\n",
    "print(best_iforest)\n"
   ]
  },
  {
   "cell_type": "code",
   "execution_count": 49,
   "metadata": {},
   "outputs": [],
   "source": [
    "def plot_confusion_matrix(y_true, y_pred, model_name):\n",
    "    cm = confusion_matrix(y_true, y_pred)\n",
    "    plt.figure(figsize=(6,4))\n",
    "    sns.heatmap(cm, annot=True, fmt='d', cmap='Blues', cbar=True)\n",
    "    plt.title(f'Matrice de Confusion - {model_name}')\n",
    "    plt.xlabel('Prédictions')\n",
    "    plt.ylabel('TRUE')\n",
    "    plt.xticks([0.5,1.5], ['Non-Fraude', 'Fraude'])\n",
    "    plt.yticks([0.5,1.5], ['Non-Fraude', 'Fraude'], rotation=0)\n",
    "    plt.show()\n"
   ]
  },
  {
   "cell_type": "code",
   "execution_count": 38,
   "metadata": {},
   "outputs": [
    {
     "name": "stderr",
     "output_type": "stream",
     "text": [
      "c:\\Users\\esper\\anaconda3\\Lib\\site-packages\\xgboost\\core.py:158: UserWarning: [14:44:21] WARNING: C:\\buildkite-agent\\builds\\buildkite-windows-cpu-autoscaling-group-i-0015a694724fa8361-1\\xgboost\\xgboost-ci-windows\\src\\learner.cc:740: \n",
      "Parameters: { \"use_label_encoder\" } are not used.\n",
      "\n",
      "  warnings.warn(smsg, UserWarning)\n"
     ]
    },
    {
     "name": "stdout",
     "output_type": "stream",
     "text": [
      "=== XGBoost Optimisé ===\n",
      "Classification Report:\n",
      "              precision    recall  f1-score   support\n",
      "\n",
      "           0       1.00      1.00      1.00     56864\n",
      "           1       0.94      0.81      0.87        98\n",
      "\n",
      "    accuracy                           1.00     56962\n",
      "   macro avg       0.97      0.90      0.93     56962\n",
      "weighted avg       1.00      1.00      1.00     56962\n",
      "\n",
      "AUC-PR: 0.8822\n"
     ]
    }
   ],
   "source": [
    "# Convertir les paramètres optimisés\n",
    "best_xgb['n_estimators'] = int(best_xgb['n_estimators'])\n",
    "best_xgb['max_depth'] = int(best_xgb['max_depth'])\n",
    "\n",
    "# Initialiser le modèle avec les meilleurs hyperparamètres\n",
    "model_xgb = xgb.XGBClassifier(\n",
    "    objective='binary:logistic',\n",
    "    use_label_encoder=False,\n",
    "    eval_metric='logloss',\n",
    "    **best_xgb,\n",
    "    random_state=42\n",
    ")\n",
    "\n",
    "# Entraîner le modèle sur l'ensemble d'entraînement\n",
    "model_xgb.fit(X_train, y_train)\n",
    "\n",
    "# Prédictions sur l'ensemble de validation\n",
    "y_pred_xgb = model_xgb.predict(X_val)\n",
    "y_proba_xgb = model_xgb.predict_proba(X_val)[:,1]\n",
    "\n",
    "# Évaluation\n",
    "print(\"=== XGBoost Optimisé ===\")\n",
    "print(\"Classification Report:\")\n",
    "print(classification_report(y_val, y_pred_xgb))\n",
    "print(f\"AUC-PR: {average_precision_score(y_val, y_proba_xgb):.4f}\")\n"
   ]
  },
  {
   "cell_type": "code",
   "execution_count": 42,
   "metadata": {},
   "outputs": [
    {
     "name": "stdout",
     "output_type": "stream",
     "text": [
      "=== Isolation Forest Optimisé ===\n",
      "Classification Report:\n",
      "              precision    recall  f1-score   support\n",
      "\n",
      "           0       1.00      1.00      1.00     56864\n",
      "           1       0.36      0.39      0.37        98\n",
      "\n",
      "    accuracy                           1.00     56962\n",
      "   macro avg       0.68      0.69      0.69     56962\n",
      "weighted avg       1.00      1.00      1.00     56962\n",
      "\n",
      "AUC-PR: 0.1401\n"
     ]
    }
   ],
   "source": [
    "# Interpréter le comportement\n",
    "# Dans Hyperopt, 'behaviour' a été encodé comme 0: 'new', 1: 'deprecated'\n",
    "#best_iforest['behaviour'] = 'new' if best_iforest['behaviour'] == 0 else 'deprecated'\n",
    "\n",
    "# Initialiser le modèle avec les meilleurs hyperparamètres\n",
    "model_iforest = IsolationForest(\n",
    "    n_estimators=int(best_iforest['n_estimators']),\n",
    "    max_samples=best_iforest['max_samples'],\n",
    "    contamination=contamination,  # Utiliser la contamination calculée\n",
    "    max_features=best_iforest['max_features'],\n",
    "    \n",
    "   \n",
    "    random_state=42\n",
    ")\n",
    "\n",
    "# Entraîner le modèle sur l'ensemble d'entraînement\n",
    "model_iforest.fit(X_train)\n",
    "\n",
    "# Prédictions sur l'ensemble de validation\n",
    "y_pred_iforest = model_iforest.predict(X_val)\n",
    "y_scores_iforest = model_iforest.decision_function(X_val)  # Plus le score est élevé, plus c'est une anomalie\n",
    "\n",
    "# Conversion des prédictions en format binaire\n",
    "y_pred_iforest_binary = np.where(y_pred_iforest == -1, 1, 0)  # 1: Anomalie (Fraude), 0: Normal\n",
    "\n",
    "# Évaluation\n",
    "print(\"=== Isolation Forest Optimisé ===\")\n",
    "print(\"Classification Report:\")\n",
    "print(classification_report(y_val, y_pred_iforest_binary))\n",
    "print(f\"AUC-PR: {average_precision_score(y_val, y_pred_iforest_binary):.4f}\")\n"
   ]
  },
  {
   "cell_type": "code",
   "execution_count": 50,
   "metadata": {},
   "outputs": [
    {
     "data": {
      "image/png": "[encoded data removed]",
      "text/plain": [
       "<Figure size 600x400 with 2 Axes>"
      ]
     },
     "metadata": {},
     "output_type": "display_data"
    },
    {
     "data": {
      "image/png": "[encoded data removed]",
      "text/plain": [
       "<Figure size 600x400 with 2 Axes>"
      ]
     },
     "metadata": {},
     "output_type": "display_data"
    }
   ],
   "source": [
    "# Matrice de confusion pour XGBoost\n",
    "plot_confusion_matrix(y_val, y_pred_xgb, 'XGBoost')\n",
    "\n",
    "# Matrice de confusion pour Isolation Forest\n",
    "plot_confusion_matrix(y_val, y_pred_iforest_binary, 'Isolation Forest')\n"
   ]
  },
  {
   "cell_type": "code",
   "execution_count": 51,
   "metadata": {},
   "outputs": [
    {
     "name": "stderr",
     "output_type": "stream",
     "text": [
      "c:\\Users\\esper\\anaconda3\\Lib\\site-packages\\xgboost\\core.py:158: UserWarning: [14:51:26] WARNING: C:\\buildkite-agent\\builds\\buildkite-windows-cpu-autoscaling-group-i-0015a694724fa8361-1\\xgboost\\xgboost-ci-windows\\src\\learner.cc:740: \n",
      "Parameters: { \"use_label_encoder\" } are not used.\n",
      "\n",
      "  warnings.warn(smsg, UserWarning)\n"
     ]
    },
    {
     "name": "stdout",
     "output_type": "stream",
     "text": [
      "Modèle XGBoost optimisé sauvegardé dans 'models/xgb_model.pkl'\n"
     ]
    }
   ],
   "source": [
    "# Entraîner le meilleur modèle sur l'ensemble des données\n",
    "best_model = xgb.XGBClassifier(\n",
    "    objective='binary:logistic',\n",
    "    use_label_encoder=False,\n",
    "    eval_metric='logloss',\n",
    "    **best_xgb,\n",
    "    random_state=42\n",
    ")\n",
    "\n",
    "best_model.fit(X, y)\n",
    "\n",
    "# Sauvegarder le modèle entraîné\n",
    "model_output_path = 'models/xgb_model.pkl'\n",
    "\n",
    "# Créer le dossier 'models' s'il n'existe pas\n",
    "os.makedirs(os.path.dirname(model_output_path), exist_ok=True)\n",
    "\n",
    "with open(model_output_path, 'wb') as file:\n",
    "    pickle.dump(best_model, file)\n",
    "\n",
    "print(f\"Modèle XGBoost optimisé sauvegardé dans '{model_output_path}'\")\n"
   ]
  },
  {
   "cell_type": "code",
   "execution_count": null,
   "metadata": {},
   "outputs": [],
   "source": []
  }
 ],
 "metadata": {
  "kernelspec": {
   "display_name": "base",
   "language": "python",
   "name": "python3"
  },
  "language_info": {
   "codemirror_mode": {
    "name": "ipython",
    "version": 3
   },
   "file_extension": ".py",
   "mimetype": "text/x-python",
   "name": "python",
   "nbconvert_exporter": "python",
   "pygments_lexer": "ipython3",
   "version": "3.12.4"
  }
 },
 "nbformat": 4,
 "nbformat_minor": 2
}
